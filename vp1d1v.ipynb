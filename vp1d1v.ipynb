{
 "cells": [
  {
   "cell_type": "code",
   "execution_count": 1,
   "metadata": {},
   "outputs": [],
   "source": [
    "import numpy as np\n",
    "import matplotlib.pyplot as plt\n",
    "from mpl_toolkits.mplot3d import Axes3D\n",
    "import pylab as pl\n",
    "import sys"
   ]
  },
  {
   "cell_type": "markdown",
   "metadata": {},
   "source": [
    "## On va résoudre l'équation de Vlasov-Poisson 1D x 1D :\n",
    "\n",
    "### $$\n",
    "    \\begin{cases}\n",
    "        \\ \\partial_{t}f(t,x,v) + v\\partial_{x}f(t,x,v)-E(t,x)\\partial_{v}f(t,x,v) = 0 \\\\   \n",
    "        \\ \\partial_{x}E(t,x) =\\int_{\\mathbb{R}}f(t,x,v)dv-1 \\ , avec  \\ x \\in [0,\\frac{2\\pi}{k}] \\ ,\\  v\\in [-8,8] \n",
    "    \\end{cases}\n",
    "   $$\n",
    "\n",
    "\n"
   ]
  },
  {
   "cell_type": "markdown",
   "metadata": {},
   "source": [
    "Commençons par définir le maillage et l'initialisation\n",
    "\n",
    "\n",
    "\n",
    "\n"
   ]
  },
  {
   "cell_type": "code",
   "execution_count": 2,
   "metadata": {},
   "outputs": [],
   "source": [
    "Nx = 64\n",
    "Nv = 64\n",
    "k = 0.5\n",
    "eps = 0.01\n",
    "dt = 0.2\n",
    "v0 = 2.4\n",
    "xmin = 0.0\n",
    "xmax =4.0*np.pi\n",
    "vmin = -8.0\n",
    "vmax = 8.0\n",
    "dx=(xmax-xmin)/Nx\n",
    "dv=(vmax-vmin)/Nv\n",
    "meshx=xmin+dx*np.arange(Nx)\n",
    "meshv=vmin+dv*np.arange(Nv)\n",
    "x,v = np.meshgrid(meshx,meshv)"
   ]
  },
  {
   "cell_type": "markdown",
   "metadata": {},
   "source": [
    "### Fonction initiale:\n",
    "\n",
    "### $$f(t=0,x,v)= \\frac{1}{\\sqrt{2\\pi}}e^{\\frac{-v^{2}}{2}}(1+\\varepsilon  cos(kx))$$"
   ]
  },
  {
   "cell_type": "code",
   "execution_count": 3,
   "metadata": {},
   "outputs": [],
   "source": [
    "def fun_landau(x,v,choix_test):\n",
    "    if(choix_test==1):\n",
    "        return (1.0+eps*np.cos(k*x))*(np.exp(-0.5*((v-v0)**2))+np.exp(-0.5*(((v+v0)**2))))/np.sqrt(2*np.pi)\n",
    "    elif(choix_test==2):\n",
    "        return (1.0/np.sqrt(2.0*np.pi))*np.exp(-v**2/2.0)*(1 + eps*np.cos(k*x))"
   ]
  },
  {
   "cell_type": "markdown",
   "metadata": {},
   "source": [
    "Initialisation"
   ]
  },
  {
   "cell_type": "code",
   "execution_count": 20,
   "metadata": {},
   "outputs": [],
   "source": [
    "choix_test=2\n",
    "f0 = fun_landau(x,v,choix_test)"
   ]
  },
  {
   "cell_type": "code",
   "execution_count": 21,
   "metadata": {
    "scrolled": false
   },
   "outputs": [
    {
     "data": {
      "image/png": "[encoded data removed]",
      "text/plain": [
       "<Figure size 432x288 with 1 Axes>"
      ]
     },
     "metadata": {
      "needs_background": "light"
     },
     "output_type": "display_data"
    }
   ],
   "source": [
    "pl.title('distribution f cas test Instabilité double faisceaux sur une grille 64 × 64,au temps T = 0 ')\n",
    "im = pl.imshow(f0,extent=(xmin,xmax,vmin,vmax),origin='lower')"
   ]
  },
  {
   "cell_type": "markdown",
   "metadata": {},
   "source": [
    "# Présentation de l’algorithme\n",
    "\n",
    "L’objectif est de construire des approximations numériques pour résoudre l’équation Vlasov-Poisson 1D x 1D"
   ]
  },
  {
   "cell_type": "markdown",
   "metadata": {},
   "source": [
    "### Méthodes de splitting:\n",
    "On se ramène à un problème 1D.\n",
    "<br />\n",
    "On cosidère dans un premier temps l’advection en X:\n",
    "<br />\n",
    "En résolvant sur $\\Delta  t $\n",
    "### $$\\partial_{t}f+v\\partial_{x}f=0 (1)$$\n",
    "<br />\n",
    "\n",
    "\n",
    "\n",
    "Par une méthode semi-Lagrangienne. on deux étapes pour calculer la fonction de distribution $f_{n+1}$ au temps $t_{n+1}$ à partir de la fonction de distribution $f_{n}$  au temps$t_{n}$  :\n",
    "<br />\n",
    "1)Pour chaque point $x_{i}$ du maillage de l'espace des phases, calculer $X(t_{n};x_{i}, t_{n+1})$\n",
    "<br />\n",
    "la valeur de la caractéristique en $t_{n}$ qui vaut $x_{i}$ en $t_{n+1}$.\n",
    "<br />\n",
    "2)Comme la fonction de distribution solution de l'équation vérifie\n",
    "$$f_{n+1}(x_{i}) = f_{n}(X(t_{n}; x_{i}, t_{n+1}))$$\n",
    "on obtient la valeur $ f_{n+1}(x_{i}) $ cherchée, en calculant $f_{n}(X(t_{n}; x_{i}, t_{n+1}))$ par interpolation\n",
    "<br />\n",
    "car $X(t_{n}; x_{i}, t_{n+1})$ n'est en général pas un point du maillage.\n",
    "<br />\n",
    "L'équation (1) à pour solution explicite sur un pas de temps $\\Delta t$ :\n",
    "\n",
    "### $$f(x,v,t+\\Delta t)=f(x-v\\Delta  t,v,t)$$\n",
    "On obtient ainsi, en plus de la valeur de f aux points du maillage la valeurs de ses\n",
    "dérivées dont on a besoin pour une interpolation.\n",
    "<br />\n",
    "On pose :  $ x_{i}-v\\Delta  t = x_{j}+\\alpha \\Delta x  $  avec  $0 \\leq \\alpha<1$\n",
    "<br />\n",
    "Donc $ i-v\\frac{\\Delta  t}{\\Delta  x} = j+\\alpha$ \n",
    "### Et \n",
    "### $$f_{i}^{n+1}=(1-\\alpha)f_{j}^{n}+\\alpha f_{j+1}^{n} $$\n"
   ]
  },
  {
   "cell_type": "markdown",
   "metadata": {},
   "source": [
    "###### Calcul de l'interpolation"
   ]
  },
  {
   "cell_type": "code",
   "execution_count": 22,
   "metadata": {},
   "outputs": [],
   "source": [
    "def advect1d(p,f_new,f_old,a,L,dt):\n",
    "    npts = np.size(f_old)\n",
    "    n = npts\n",
    "    #-a*n/L = i0+alpha i0 dans Z et 0<=alpha<1\n",
    "    x = -a*dt/L\n",
    "    i0 = np.floor(x)\n",
    "    alpha = x-i0\n",
    "    for i in range(n):\n",
    "        jn3 = int(i0+i-3)%n\n",
    "        jn2 = int(i0+i-2)%n\n",
    "        jn1 = int(i0+i-1)%n\n",
    "        j = int(i0+i)%n\n",
    "        jp1 = int(i0+i+1)%n\n",
    "        jp2 = int(i0+i+2)%n\n",
    "        jp3 = int(i0+i+3)%n\n",
    "        if (p==1):\n",
    "            f_new[i]=alpha*f_old[jp1] +(1-alpha)*f_old[j] # une interpolation de degré 1\n",
    "            \n",
    "        elif (p==3):\n",
    "            L_n1=-alpha*(alpha-1)*(alpha-2)/6\n",
    "            L_0=(alpha+1)*(alpha-1)*(alpha-2)/2\n",
    "            L_1=-alpha*(alpha+1)*(alpha-2)/2\n",
    "            L_2=alpha*(alpha-1)*(alpha+1)/6\n",
    "            f_new[i]=L_n1*f_old[jn1] +L_0*f_old[j]+L_1*f_old[jp1]+L_2*f_old[jp2] # une interpolation de degré 3\n",
    "            \n",
    "        elif (p==6):\n",
    "            # une interpolation de degré 6\n",
    "            L_n3=alpha*(alpha+2)*(alpha+1)*(alpha-1)*(alpha-2)*(alpha-3)/720\n",
    "            L_n2=-alpha*(alpha+3)*(alpha+1)*(alpha-1)*(alpha-2)*(alpha-3)/120\n",
    "            L_n1=alpha*(alpha+3)*(alpha+2)*(alpha-1)*(alpha-2)*(alpha-3)/48\n",
    "            L_0=-(alpha+1)*(alpha+3)*(alpha+2)*(alpha-1)*(alpha-2)*(alpha-3)/36\n",
    "            L_1=alpha*(alpha+3)*(alpha+2)*(alpha+1)*(alpha-2)*(alpha-3)/48\n",
    "            L_2=-alpha*(alpha+3)*(alpha+1)*(alpha-1)*(alpha+2)*(alpha-3)/120\n",
    "            L_3=alpha*(alpha+2)*(alpha+1)*(alpha-1)*(alpha-2)*(alpha+3)/720\n",
    "            f_new[i]=L_n3*f_old[jn3]+L_n2*f_old[jn2]+L_n1*f_old[jn1]+L_0*f_old[j]+L_1*f_old[jp1]+L_2*f_old[jp2]+L_3*f_old[jp3] # une interpolation de degré 6\n",
    "      \n",
    "    return f_new  "
   ]
  },
  {
   "cell_type": "markdown",
   "metadata": {},
   "source": [
    "###### L'advection en x"
   ]
  },
  {
   "cell_type": "code",
   "execution_count": 23,
   "metadata": {},
   "outputs": [],
   "source": [
    "def advect_x(f,a,dt,dx,p):\n",
    "    npts_x = np.size(f,1)\n",
    "    npts_v = np.size(f,0)\n",
    "    f1d_old = np.zeros(npts_x)\n",
    "    f1d_new = np.zeros(npts_x)\n",
    "    if(np.size(a)!=npts_v):\n",
    "        print(\"bad size for a\")\n",
    "        sys.exit()\n",
    "  \n",
    "    for j in range(npts_v):\n",
    "        f1d_old = f[j,:]\n",
    "     \n",
    "        advect1d(p,f1d_new,f1d_old,a[j],dx,dt)\n",
    "        f[j,:]=f1d_new\n",
    "    return f    "
   ]
  },
  {
   "cell_type": "markdown",
   "metadata": {},
   "source": [
    "L'advection en v pour un champ électrique E(x) :\n",
    "\n",
    "### $$\\partial_{t}f+E\\partial_{v}f=0 $$\n",
    "On utilise la transformée de fourier discrète pour approcher $\\partial_{x}E$\n",
    "<br />\n",
    "Donc $$\\partial_{x}E(t,x) =\\int_{\\mathbb{R}}f(t,x,v)dv-1 $$ on pose $\\rho(x,t)= \\int_{\\mathbb{R}}f(t,x,v)dv-1 $\n",
    "\n",
    "transformée de fourier discrète direct (TFD):\n",
    "\n",
    "$$\\hat{\\rho}_{k}=\\sum_{n=-\\frac{N}{2}}^{\\frac{N}{2}+1} \\rho_{n}e^{-2i\\pi n\\frac{k}{N}} $$\n",
    "\n",
    "transformée de fourier discrète inverse (TFDD):\n",
    "\n",
    "$$\\rho_{n}=\\sum_{k=-\\frac{N}{2}}^{\\frac{N}{2}+1} \\hat{\\rho}_{k}e^{2i\\pi n\\frac{k}{N}} $$\n",
    "transformation de Fourier et dérivation:\n",
    "\n",
    "$$\\mathcal{F}(\\partial_{x}E)=\\frac{2i\\pi k}{L}\\hat{E}_{k} $$\n",
    "\n",
    "\n",
    "avec :\n",
    "<br />\n",
    "N : nombre de points temporels \n",
    "<br />\n",
    "n  : variable temporelle $n = 0, ..., N−1$\n",
    "<br />\n",
    "L : Nombre de points fréquentiels\n",
    "<br />\n",
    "k : variable fréquentielle $k = 0, ..., L−1$\n",
    "<br />\n",
    "on considérera L=N\n"
   ]
  },
  {
   "cell_type": "markdown",
   "metadata": {},
   "source": [
    "###### Calcul de champ électrique"
   ]
  },
  {
   "cell_type": "code",
   "execution_count": 24,
   "metadata": {},
   "outputs": [],
   "source": [
    "def champ_E(f,dv,xmax,xmin):\n",
    "    nx =np.size(f,1)\n",
    "    rho = 1.0 - (dv)*np.sum(f,axis=0)\n",
    "    modes = 2*np.pi*np.arange(nx/2+1)/(xmax-xmin)\n",
    "    rhok = np.fft.rfft(rho)\n",
    "    modes[0] = 1.  # avoid division by 0\n",
    "    Z = (np.fft.irfft((-1j*rhok/modes)))\n",
    "    return Z\n"
   ]
  },
  {
   "cell_type": "markdown",
   "metadata": {},
   "source": [
    "###### L'advection en v"
   ]
  },
  {
   "cell_type": "code",
   "execution_count": 25,
   "metadata": {},
   "outputs": [],
   "source": [
    "def advect_v(f,E,dv,dt,p):\n",
    "    npts_x = np.size(f,1)\n",
    "    npts_v = np.size(f,0)\n",
    "    f1d_old = np.zeros(npts_v)\n",
    "    f1d_new = np.zeros(npts_v)\n",
    "    if(np.size(E)!=npts_x):\n",
    "        print(\"bad size for a\")\n",
    "        sys.exit()  \n",
    "    for i in range(npts_x):\n",
    "        f1d_old = f[:,i]\n",
    "        advect1d(p,f1d_new,f1d_old,-E[i],dv,dt)\n",
    "        f[:,i] = f1d_new\n",
    "    return f"
   ]
  },
  {
   "cell_type": "markdown",
   "metadata": {},
   "source": [
    "###### La norme L2"
   ]
  },
  {
   "cell_type": "code",
   "execution_count": 26,
   "metadata": {},
   "outputs": [],
   "source": [
    "def normeL2(h,U):\n",
    "    return np.sqrt(h*np.sum(U**2))"
   ]
  },
  {
   "cell_type": "markdown",
   "metadata": {},
   "source": [
    "###### Solution analytique du mode dominant du champ électrique\n",
    "\n",
    "$$E(x,t)\\approx 4\\epsilon re^{w_{i}t}sin(kx)cos(w_{r}t-\\varphi)$$\n",
    "On note qu'on a toujours pour une racine de la form $w_{r}+iw_{i}$ associée au résidus $re^{-i\\varphi}$\n",
    "\n",
    "\n"
   ]
  },
  {
   "cell_type": "code",
   "execution_count": 27,
   "metadata": {},
   "outputs": [],
   "source": [
    "def theorique_champ(A,t,k,meshx):\n",
    "    if(k==0.5):\n",
    "        return 4*A*0.3677*np.exp(-0.1533*t)*np.sin(k*meshx)*np.cos(1.4156*t-0.536245)\n",
    "    if (k==0.3):\n",
    "        return 4*A*0.63678*np.exp(-0.0126*t)*np.sin(k*meshx)*np.cos(1.1598*t-0.114267)"
   ]
  },
  {
   "cell_type": "markdown",
   "metadata": {},
   "source": [
    "###### Fonction principale"
   ]
  },
  {
   "cell_type": "code",
   "execution_count": null,
   "metadata": {},
   "outputs": [],
   "source": [
    "p=3\n",
    "f = f0.copy()\n",
    "E=champ_E(f,dv,xmax,xmin)\n",
    "pl.title('distribution f cas test L’amortissement Landau sur une grille 64 × 64,au temps T = 100')\n",
    "im = pl.imshow(f0,extent=(xmin,xmax,vmin,vmax),origin='lower')\n",
    "nr =500\n",
    "time = dt*np.arange(nr+1)\n",
    "l2_f =np.zeros(nr+1)\n",
    "l3_f =np.zeros(nr+1)\n",
    "ET=theorique_champ(eps,time[0],k,meshx)\n",
    "l4_f =np.zeros(nr+1)\n",
    "l3_f[0] =np.sqrt(1/(xmax))*normeL2(dx,E)\n",
    "l4_f[0] =np.sqrt(1/(xmax))*normeL2(dx,ET)\n",
    "l2_f[0] = np.sum(f**2)\n",
    "for n in range(nr):\n",
    "\n",
    "    f=advect_v(f,E,dv,0.5*dt,p)\n",
    "   \n",
    "    f=advect_x(f,meshv,dt,dx,p)\n",
    " \n",
    "    E=champ_E(f,dv,xmax,xmin)\n",
    "   \n",
    "    f=advect_v(f,E,dv,0.5*dt,p)\n",
    "    \n",
    "    ET=theorique_champ(eps,time[n+1],k,meshx)\n",
    "    \n",
    "    l3_f[n+1] =np.sqrt(1/(xmax))*normeL2(dx,E)\n",
    "    \n",
    "    l2_f[n+1]= np.sum(f**2)\n",
    "    \n",
    "    l4_f[n+1] =np.sqrt(1/(xmax))*normeL2(dx,ET)\n",
    "    \n",
    "im.set_data(f)\n",
    "im.set_array(f)\n"
   ]
  },
  {
   "cell_type": "markdown",
   "metadata": {},
   "source": [
    "### Validation des codes Vlasov-Poisson 1Dx1D\n",
    "\n",
    "Pour les codes semi-Lagrangiens,il faudra vérifier l’interpolation,le solveur de Poisson et ́eventuellement la résolution numérique des caractéristique.\n",
    "<br />\n",
    "Une fois toutes les briques de base validées, on passe à la validation du code globale  en uutilisant les solution connues de vlasov-poisson. \n",
    "<br />\n",
    "Nous considérons deux cas de tests classique \n",
    "<br />\n",
    "- l'amortissement landau \n",
    "<br />\n",
    "- l'instabilité double faisceau    "
   ]
  },
  {
   "cell_type": "markdown",
   "metadata": {},
   "source": [
    "### l'amortissement landau \n",
    "\n",
    "La condition initiale de l’amortissement Landau correspond à :\n",
    "\n",
    "$$f(t=0,x,v)= \\frac{1}{\\sqrt{2\\pi}}e^{\\frac{-v^{2}}{2}}(1+\\varepsilon  cos(kx)) , L= 4\\pi $$\n",
    "Dans les simulations numérique on prenons  $\\epsilon$ comme une petit perturbation d'un équilibre Maxwellien.\n",
    "<br />\n",
    "Cet équilibre est stable et la fonction de distribution revient à l'étas d'équilibre apres la perturbation. \n",
    "\n"
   ]
  },
  {
   "cell_type": "code",
   "execution_count": null,
   "metadata": {
    "scrolled": false
   },
   "outputs": [],
   "source": [
    "pl.title('L’amortissement Landau pour, k ='+str(k))\n",
    "pl.plot(time,np.log(l3_f),label=\"L'énergie électrique (simulation)\")\n",
    "pl.plot(time,np.log(l4_f),label=\"L'énergie électrique (theorique)\")\n",
    "pl.plot(time,np.log(1e-2*np.exp(-0.1533*time)),label='droite de pente : '+str(-0.1533))\n",
    "plt.legend()\n",
    "plt.show()"
   ]
  },
  {
   "cell_type": "markdown",
   "metadata": {},
   "source": [
    "### L'instabilité double faisceau \n",
    "\n",
    "L’instabilité double faisceaux est un cas-test pour le système Vlasov-Poisson 1D. Une instabilité double faisceaux est une instabilité qui apparaît dans les plasmas lorsque deux faisceaux légèrement perturbés se rencontrent.\n",
    "<br />\n",
    "les deux faisceaux se déplaçant avec un vitesse moyenne $v_{0}$ et $-v_{0}$, la stable ou instable de système dépend des paramètre $ k $ et $v_{0}$.\n"
   ]
  },
  {
   "cell_type": "markdown",
   "metadata": {},
   "source": [
    "##### La condition initiale de l’amortissement Landau correspond à :\n",
    "$$f(x,v,t=0)=\\frac{1}{2\\sqrt{2\\pi}}(e^{\\frac{-(v-v_{0})^{2}}{2}}+e^{\\frac{-(v+v_{0})^{2}}{2}})(1+0.001cos(kx)) $$ avec $L=\\frac{2\\pi}{k}$"
   ]
  },
  {
   "cell_type": "code",
   "execution_count": 19,
   "metadata": {},
   "outputs": [
    {
     "data": {
      "image/png": "[encoded data removed]",
      "text/plain": [
       "<Figure size 432x288 with 1 Axes>"
      ]
     },
     "metadata": {
      "needs_background": "light"
     },
     "output_type": "display_data"
    }
   ],
   "source": [
    "pl.title('L’instabilité double faisceau  pour, k ='+str(k)+' et V0 = '+str(v0))\n",
    "pl.plot(time,np.log(l3_f),label=\"L'énergie électrique (simulation)\")\n",
    "pl.plot(time,np.log(0.065*np.exp(-0.001*time)),label='droite de pente : '+str(-0.001))\n",
    "plt.legend()\n",
    "plt.show()"
   ]
  },
  {
   "cell_type": "code",
   "execution_count": null,
   "metadata": {},
   "outputs": [],
   "source": []
  }
 ],
 "metadata": {
  "kernelspec": {
   "display_name": "Python 3",
   "language": "python",
   "name": "python3"
  },
  "language_info": {
   "codemirror_mode": {
    "name": "ipython",
    "version": 3
   },
   "file_extension": ".py",
   "mimetype": "text/x-python",
   "name": "python",
   "nbconvert_exporter": "python",
   "pygments_lexer": "ipython3",
   "version": "3.7.0"
  }
 },
 "nbformat": 4,
 "nbformat_minor": 2
}
